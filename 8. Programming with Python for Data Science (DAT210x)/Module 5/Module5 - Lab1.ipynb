{
 "cells": [
  {
   "cell_type": "markdown",
   "metadata": {},
   "source": [
    "# DAT210x - Programming with Python for DS"
   ]
  },
  {
   "cell_type": "markdown",
   "metadata": {},
   "source": [
    "## Module5- Lab1"
   ]
  },
  {
   "cell_type": "markdown",
   "metadata": {
    "collapsed": true
   },
   "source": [
    "Start by importing whatever you need to import in order to make this lab work:"
   ]
  },
  {
   "cell_type": "code",
   "execution_count": 110,
   "metadata": {
    "collapsed": true
   },
   "outputs": [],
   "source": [
    "from sklearn.cluster import KMeans\n",
    "\n",
    "import pandas as pd\n",
    "\n",
    "import matplotlib\n",
    "import matplotlib.pyplot as plt"
   ]
  },
  {
   "cell_type": "markdown",
   "metadata": {
    "collapsed": true
   },
   "source": [
    "### How to Get The Dataset"
   ]
  },
  {
   "cell_type": "markdown",
   "metadata": {
    "collapsed": true
   },
   "source": [
    "1. Open up the City of Chicago's [Open Data | Crimes](https://data.cityofchicago.org/Public-Safety/Crimes-2001-to-present/ijzp-q8t2) page.\n",
    "1. In the `Primary Type` column, click on the `Menu` button next to the info button, and select `Filter This Column`. It might take a second for the filter option to show up, since it has to load the entire list first.\n",
    "1. Scroll down to `GAMBLING`\n",
    "1. Click the light blue `Export` button next to the `Filter` button, and select `Download As CSV`"
   ]
  },
  {
   "cell_type": "markdown",
   "metadata": {},
   "source": [
    "Now that you have th dataset stored as a CSV, load it up being careful to double check headers, as per usual:"
   ]
  },
  {
   "cell_type": "code",
   "execution_count": 111,
   "metadata": {},
   "outputs": [
    {
     "data": {
      "text/html": [
       "<div>\n",
       "<style>\n",
       "    .dataframe thead tr:only-child th {\n",
       "        text-align: right;\n",
       "    }\n",
       "\n",
       "    .dataframe thead th {\n",
       "        text-align: left;\n",
       "    }\n",
       "\n",
       "    .dataframe tbody tr th {\n",
       "        vertical-align: top;\n",
       "    }\n",
       "</style>\n",
       "<table border=\"1\" class=\"dataframe\">\n",
       "  <thead>\n",
       "    <tr style=\"text-align: right;\">\n",
       "      <th></th>\n",
       "      <th>ID</th>\n",
       "      <th>Case Number</th>\n",
       "      <th>Date</th>\n",
       "      <th>Block</th>\n",
       "      <th>IUCR</th>\n",
       "      <th>Primary Type</th>\n",
       "      <th>Description</th>\n",
       "      <th>Location Description</th>\n",
       "      <th>Arrest</th>\n",
       "      <th>Domestic</th>\n",
       "      <th>...</th>\n",
       "      <th>Ward</th>\n",
       "      <th>Community Area</th>\n",
       "      <th>FBI Code</th>\n",
       "      <th>X Coordinate</th>\n",
       "      <th>Y Coordinate</th>\n",
       "      <th>Year</th>\n",
       "      <th>Updated On</th>\n",
       "      <th>Latitude</th>\n",
       "      <th>Longitude</th>\n",
       "      <th>Location</th>\n",
       "    </tr>\n",
       "  </thead>\n",
       "  <tbody>\n",
       "    <tr>\n",
       "      <th>0</th>\n",
       "      <td>11231504</td>\n",
       "      <td>JB153137</td>\n",
       "      <td>02/15/2018 02:03:00 PM</td>\n",
       "      <td>033XX W VAN BUREN ST</td>\n",
       "      <td>1661</td>\n",
       "      <td>GAMBLING</td>\n",
       "      <td>GAME/DICE</td>\n",
       "      <td>SIDEWALK</td>\n",
       "      <td>True</td>\n",
       "      <td>False</td>\n",
       "      <td>...</td>\n",
       "      <td>28.0</td>\n",
       "      <td>27.0</td>\n",
       "      <td>19</td>\n",
       "      <td>1153985.0</td>\n",
       "      <td>1897823.0</td>\n",
       "      <td>2018</td>\n",
       "      <td>02/22/2018 03:58:56 PM</td>\n",
       "      <td>41.875458</td>\n",
       "      <td>-87.710093</td>\n",
       "      <td>(41.875457667, -87.710092857)</td>\n",
       "    </tr>\n",
       "    <tr>\n",
       "      <th>1</th>\n",
       "      <td>9999878</td>\n",
       "      <td>HY189871</td>\n",
       "      <td>03/18/2015 07:45:00 PM</td>\n",
       "      <td>012XX S AVERS AVE</td>\n",
       "      <td>1661</td>\n",
       "      <td>GAMBLING</td>\n",
       "      <td>GAME/DICE</td>\n",
       "      <td>SIDEWALK</td>\n",
       "      <td>True</td>\n",
       "      <td>False</td>\n",
       "      <td>...</td>\n",
       "      <td>24.0</td>\n",
       "      <td>29.0</td>\n",
       "      <td>19</td>\n",
       "      <td>1150904.0</td>\n",
       "      <td>1894248.0</td>\n",
       "      <td>2015</td>\n",
       "      <td>02/10/2018 03:50:01 PM</td>\n",
       "      <td>41.865708</td>\n",
       "      <td>-87.721499</td>\n",
       "      <td>(41.865708294, -87.721498739)</td>\n",
       "    </tr>\n",
       "    <tr>\n",
       "      <th>2</th>\n",
       "      <td>9997960</td>\n",
       "      <td>HY187950</td>\n",
       "      <td>03/17/2015 11:26:00 AM</td>\n",
       "      <td>044XX W MAYPOLE AVE</td>\n",
       "      <td>1661</td>\n",
       "      <td>GAMBLING</td>\n",
       "      <td>GAME/DICE</td>\n",
       "      <td>SIDEWALK</td>\n",
       "      <td>True</td>\n",
       "      <td>False</td>\n",
       "      <td>...</td>\n",
       "      <td>28.0</td>\n",
       "      <td>26.0</td>\n",
       "      <td>19</td>\n",
       "      <td>1146582.0</td>\n",
       "      <td>1901083.0</td>\n",
       "      <td>2015</td>\n",
       "      <td>02/10/2018 03:50:01 PM</td>\n",
       "      <td>41.884548</td>\n",
       "      <td>-87.737191</td>\n",
       "      <td>(41.884547781, -87.737190925)</td>\n",
       "    </tr>\n",
       "    <tr>\n",
       "      <th>3</th>\n",
       "      <td>9996963</td>\n",
       "      <td>HY187412</td>\n",
       "      <td>03/16/2015 07:20:00 PM</td>\n",
       "      <td>028XX W OGDEN AVE</td>\n",
       "      <td>1661</td>\n",
       "      <td>GAMBLING</td>\n",
       "      <td>GAME/DICE</td>\n",
       "      <td>PARK PROPERTY</td>\n",
       "      <td>True</td>\n",
       "      <td>False</td>\n",
       "      <td>...</td>\n",
       "      <td>24.0</td>\n",
       "      <td>29.0</td>\n",
       "      <td>19</td>\n",
       "      <td>1157704.0</td>\n",
       "      <td>1892591.0</td>\n",
       "      <td>2015</td>\n",
       "      <td>02/10/2018 03:50:01 PM</td>\n",
       "      <td>41.861026</td>\n",
       "      <td>-87.696581</td>\n",
       "      <td>(41.861025612, -87.696580566)</td>\n",
       "    </tr>\n",
       "    <tr>\n",
       "      <th>4</th>\n",
       "      <td>9996891</td>\n",
       "      <td>HY187323</td>\n",
       "      <td>03/16/2015 08:44:00 PM</td>\n",
       "      <td>011XX W 68TH ST</td>\n",
       "      <td>1661</td>\n",
       "      <td>GAMBLING</td>\n",
       "      <td>GAME/DICE</td>\n",
       "      <td>RESIDENCE PORCH/HALLWAY</td>\n",
       "      <td>True</td>\n",
       "      <td>False</td>\n",
       "      <td>...</td>\n",
       "      <td>17.0</td>\n",
       "      <td>68.0</td>\n",
       "      <td>19</td>\n",
       "      <td>1169721.0</td>\n",
       "      <td>1859703.0</td>\n",
       "      <td>2015</td>\n",
       "      <td>02/10/2018 03:50:01 PM</td>\n",
       "      <td>41.770525</td>\n",
       "      <td>-87.653424</td>\n",
       "      <td>(41.770524518, -87.653424052)</td>\n",
       "    </tr>\n",
       "    <tr>\n",
       "      <th>5</th>\n",
       "      <td>9996838</td>\n",
       "      <td>HY187285</td>\n",
       "      <td>03/16/2015 07:48:00 PM</td>\n",
       "      <td>057XX S MAY ST</td>\n",
       "      <td>1661</td>\n",
       "      <td>GAMBLING</td>\n",
       "      <td>GAME/DICE</td>\n",
       "      <td>SIDEWALK</td>\n",
       "      <td>True</td>\n",
       "      <td>False</td>\n",
       "      <td>...</td>\n",
       "      <td>16.0</td>\n",
       "      <td>68.0</td>\n",
       "      <td>19</td>\n",
       "      <td>1169631.0</td>\n",
       "      <td>1866750.0</td>\n",
       "      <td>2015</td>\n",
       "      <td>02/10/2018 03:50:01 PM</td>\n",
       "      <td>41.789864</td>\n",
       "      <td>-87.653550</td>\n",
       "      <td>(41.789864285, -87.653549749)</td>\n",
       "    </tr>\n",
       "    <tr>\n",
       "      <th>6</th>\n",
       "      <td>9996371</td>\n",
       "      <td>HY186620</td>\n",
       "      <td>03/16/2015 11:18:00 AM</td>\n",
       "      <td>038XX W FERDINAND ST</td>\n",
       "      <td>1661</td>\n",
       "      <td>GAMBLING</td>\n",
       "      <td>GAME/DICE</td>\n",
       "      <td>SIDEWALK</td>\n",
       "      <td>True</td>\n",
       "      <td>False</td>\n",
       "      <td>...</td>\n",
       "      <td>27.0</td>\n",
       "      <td>23.0</td>\n",
       "      <td>19</td>\n",
       "      <td>1150756.0</td>\n",
       "      <td>1903064.0</td>\n",
       "      <td>2015</td>\n",
       "      <td>02/10/2018 03:50:01 PM</td>\n",
       "      <td>41.889903</td>\n",
       "      <td>-87.721811</td>\n",
       "      <td>(41.889903264, -87.721811464)</td>\n",
       "    </tr>\n",
       "    <tr>\n",
       "      <th>7</th>\n",
       "      <td>9994937</td>\n",
       "      <td>HY185529</td>\n",
       "      <td>03/15/2015 01:52:00 PM</td>\n",
       "      <td>092XX S DOBSON AVE</td>\n",
       "      <td>1661</td>\n",
       "      <td>GAMBLING</td>\n",
       "      <td>GAME/DICE</td>\n",
       "      <td>RESIDENTIAL YARD (FRONT/BACK)</td>\n",
       "      <td>True</td>\n",
       "      <td>False</td>\n",
       "      <td>...</td>\n",
       "      <td>8.0</td>\n",
       "      <td>47.0</td>\n",
       "      <td>19</td>\n",
       "      <td>1184829.0</td>\n",
       "      <td>1843992.0</td>\n",
       "      <td>2015</td>\n",
       "      <td>02/10/2018 03:50:01 PM</td>\n",
       "      <td>41.727071</td>\n",
       "      <td>-87.598536</td>\n",
       "      <td>(41.727070836, -87.598536396)</td>\n",
       "    </tr>\n",
       "    <tr>\n",
       "      <th>8</th>\n",
       "      <td>9994935</td>\n",
       "      <td>HY185499</td>\n",
       "      <td>03/15/2015 01:23:00 PM</td>\n",
       "      <td>062XX S HERMITAGE AVE</td>\n",
       "      <td>1661</td>\n",
       "      <td>GAMBLING</td>\n",
       "      <td>GAME/DICE</td>\n",
       "      <td>SIDEWALK</td>\n",
       "      <td>True</td>\n",
       "      <td>False</td>\n",
       "      <td>...</td>\n",
       "      <td>15.0</td>\n",
       "      <td>67.0</td>\n",
       "      <td>19</td>\n",
       "      <td>1165747.0</td>\n",
       "      <td>1863403.0</td>\n",
       "      <td>2015</td>\n",
       "      <td>02/10/2018 03:50:01 PM</td>\n",
       "      <td>41.780763</td>\n",
       "      <td>-87.667886</td>\n",
       "      <td>(41.780763086, -87.667886244)</td>\n",
       "    </tr>\n",
       "    <tr>\n",
       "      <th>9</th>\n",
       "      <td>9994452</td>\n",
       "      <td>HY184892</td>\n",
       "      <td>03/14/2015 08:43:00 PM</td>\n",
       "      <td>002XX W 95TH ST</td>\n",
       "      <td>1661</td>\n",
       "      <td>GAMBLING</td>\n",
       "      <td>GAME/DICE</td>\n",
       "      <td>CHA PARKING LOT/GROUNDS</td>\n",
       "      <td>True</td>\n",
       "      <td>False</td>\n",
       "      <td>...</td>\n",
       "      <td>21.0</td>\n",
       "      <td>49.0</td>\n",
       "      <td>19</td>\n",
       "      <td>1176183.0</td>\n",
       "      <td>1841939.0</td>\n",
       "      <td>2015</td>\n",
       "      <td>02/10/2018 03:50:01 PM</td>\n",
       "      <td>41.721635</td>\n",
       "      <td>-87.630269</td>\n",
       "      <td>(41.721635295, -87.630269043)</td>\n",
       "    </tr>\n",
       "  </tbody>\n",
       "</table>\n",
       "<p>10 rows × 22 columns</p>\n",
       "</div>"
      ],
      "text/plain": [
       "         ID Case Number                    Date                  Block  IUCR  \\\n",
       "0  11231504    JB153137  02/15/2018 02:03:00 PM   033XX W VAN BUREN ST  1661   \n",
       "1   9999878    HY189871  03/18/2015 07:45:00 PM      012XX S AVERS AVE  1661   \n",
       "2   9997960    HY187950  03/17/2015 11:26:00 AM    044XX W MAYPOLE AVE  1661   \n",
       "3   9996963    HY187412  03/16/2015 07:20:00 PM      028XX W OGDEN AVE  1661   \n",
       "4   9996891    HY187323  03/16/2015 08:44:00 PM        011XX W 68TH ST  1661   \n",
       "5   9996838    HY187285  03/16/2015 07:48:00 PM         057XX S MAY ST  1661   \n",
       "6   9996371    HY186620  03/16/2015 11:18:00 AM   038XX W FERDINAND ST  1661   \n",
       "7   9994937    HY185529  03/15/2015 01:52:00 PM     092XX S DOBSON AVE  1661   \n",
       "8   9994935    HY185499  03/15/2015 01:23:00 PM  062XX S HERMITAGE AVE  1661   \n",
       "9   9994452    HY184892  03/14/2015 08:43:00 PM        002XX W 95TH ST  1661   \n",
       "\n",
       "  Primary Type Description           Location Description  Arrest  Domestic  \\\n",
       "0     GAMBLING   GAME/DICE                       SIDEWALK    True     False   \n",
       "1     GAMBLING   GAME/DICE                       SIDEWALK    True     False   \n",
       "2     GAMBLING   GAME/DICE                       SIDEWALK    True     False   \n",
       "3     GAMBLING   GAME/DICE                  PARK PROPERTY    True     False   \n",
       "4     GAMBLING   GAME/DICE        RESIDENCE PORCH/HALLWAY    True     False   \n",
       "5     GAMBLING   GAME/DICE                       SIDEWALK    True     False   \n",
       "6     GAMBLING   GAME/DICE                       SIDEWALK    True     False   \n",
       "7     GAMBLING   GAME/DICE  RESIDENTIAL YARD (FRONT/BACK)    True     False   \n",
       "8     GAMBLING   GAME/DICE                       SIDEWALK    True     False   \n",
       "9     GAMBLING   GAME/DICE        CHA PARKING LOT/GROUNDS    True     False   \n",
       "\n",
       "               ...                Ward  Community Area  FBI Code  \\\n",
       "0              ...                28.0            27.0        19   \n",
       "1              ...                24.0            29.0        19   \n",
       "2              ...                28.0            26.0        19   \n",
       "3              ...                24.0            29.0        19   \n",
       "4              ...                17.0            68.0        19   \n",
       "5              ...                16.0            68.0        19   \n",
       "6              ...                27.0            23.0        19   \n",
       "7              ...                 8.0            47.0        19   \n",
       "8              ...                15.0            67.0        19   \n",
       "9              ...                21.0            49.0        19   \n",
       "\n",
       "   X Coordinate  Y Coordinate  Year              Updated On   Latitude  \\\n",
       "0     1153985.0     1897823.0  2018  02/22/2018 03:58:56 PM  41.875458   \n",
       "1     1150904.0     1894248.0  2015  02/10/2018 03:50:01 PM  41.865708   \n",
       "2     1146582.0     1901083.0  2015  02/10/2018 03:50:01 PM  41.884548   \n",
       "3     1157704.0     1892591.0  2015  02/10/2018 03:50:01 PM  41.861026   \n",
       "4     1169721.0     1859703.0  2015  02/10/2018 03:50:01 PM  41.770525   \n",
       "5     1169631.0     1866750.0  2015  02/10/2018 03:50:01 PM  41.789864   \n",
       "6     1150756.0     1903064.0  2015  02/10/2018 03:50:01 PM  41.889903   \n",
       "7     1184829.0     1843992.0  2015  02/10/2018 03:50:01 PM  41.727071   \n",
       "8     1165747.0     1863403.0  2015  02/10/2018 03:50:01 PM  41.780763   \n",
       "9     1176183.0     1841939.0  2015  02/10/2018 03:50:01 PM  41.721635   \n",
       "\n",
       "   Longitude                       Location  \n",
       "0 -87.710093  (41.875457667, -87.710092857)  \n",
       "1 -87.721499  (41.865708294, -87.721498739)  \n",
       "2 -87.737191  (41.884547781, -87.737190925)  \n",
       "3 -87.696581  (41.861025612, -87.696580566)  \n",
       "4 -87.653424  (41.770524518, -87.653424052)  \n",
       "5 -87.653550  (41.789864285, -87.653549749)  \n",
       "6 -87.721811  (41.889903264, -87.721811464)  \n",
       "7 -87.598536  (41.727070836, -87.598536396)  \n",
       "8 -87.667886  (41.780763086, -87.667886244)  \n",
       "9 -87.630269  (41.721635295, -87.630269043)  \n",
       "\n",
       "[10 rows x 22 columns]"
      ]
     },
     "execution_count": 111,
     "metadata": {},
     "output_type": "execute_result"
    }
   ],
   "source": [
    "df = pd.read_csv('Datasets/crimes.csv')\n",
    "df.head(10)"
   ]
  },
  {
   "cell_type": "markdown",
   "metadata": {},
   "source": [
    "Get rid of any _rows_ that have nans in them:"
   ]
  },
  {
   "cell_type": "code",
   "execution_count": 112,
   "metadata": {},
   "outputs": [
    {
     "data": {
      "text/plain": [
       "(14232, 22)"
      ]
     },
     "execution_count": 112,
     "metadata": {},
     "output_type": "execute_result"
    }
   ],
   "source": [
    "df.shape"
   ]
  },
  {
   "cell_type": "code",
   "execution_count": 113,
   "metadata": {},
   "outputs": [
    {
     "data": {
      "text/plain": [
       "(6086, 22)"
      ]
     },
     "execution_count": 113,
     "metadata": {},
     "output_type": "execute_result"
    }
   ],
   "source": [
    "df = df.dropna(axis=0)\n",
    "df.shape"
   ]
  },
  {
   "cell_type": "markdown",
   "metadata": {},
   "source": [
    "Display the `dtypes` of your dset:"
   ]
  },
  {
   "cell_type": "code",
   "execution_count": 114,
   "metadata": {},
   "outputs": [
    {
     "data": {
      "text/plain": [
       "ID                        int64\n",
       "Case Number              object\n",
       "Date                     object\n",
       "Block                    object\n",
       "IUCR                      int64\n",
       "Primary Type             object\n",
       "Description              object\n",
       "Location Description     object\n",
       "Arrest                     bool\n",
       "Domestic                   bool\n",
       "Beat                      int64\n",
       "District                  int64\n",
       "Ward                    float64\n",
       "Community Area          float64\n",
       "FBI Code                  int64\n",
       "X Coordinate            float64\n",
       "Y Coordinate            float64\n",
       "Year                      int64\n",
       "Updated On               object\n",
       "Latitude                float64\n",
       "Longitude               float64\n",
       "Location                 object\n",
       "dtype: object"
      ]
     },
     "execution_count": 114,
     "metadata": {},
     "output_type": "execute_result"
    }
   ],
   "source": [
    "df.dtypes"
   ]
  },
  {
   "cell_type": "markdown",
   "metadata": {},
   "source": [
    "Coerce the `Date` feature (which is currently a string object) into real date, and confirm by displaying the `dtypes` again. This might be a slow executing process..."
   ]
  },
  {
   "cell_type": "code",
   "execution_count": 115,
   "metadata": {},
   "outputs": [
    {
     "data": {
      "text/plain": [
       "ID                               int64\n",
       "Case Number                     object\n",
       "Date                    datetime64[ns]\n",
       "Block                           object\n",
       "IUCR                             int64\n",
       "Primary Type                    object\n",
       "Description                     object\n",
       "Location Description            object\n",
       "Arrest                            bool\n",
       "Domestic                          bool\n",
       "Beat                             int64\n",
       "District                         int64\n",
       "Ward                           float64\n",
       "Community Area                 float64\n",
       "FBI Code                         int64\n",
       "X Coordinate                   float64\n",
       "Y Coordinate                   float64\n",
       "Year                             int64\n",
       "Updated On                      object\n",
       "Latitude                       float64\n",
       "Longitude                      float64\n",
       "Location                        object\n",
       "dtype: object"
      ]
     },
     "execution_count": 115,
     "metadata": {},
     "output_type": "execute_result"
    }
   ],
   "source": [
    "df.Date = pd.to_datetime(df.Date, errors='coerce')\n",
    "df.dtypes"
   ]
  },
  {
   "cell_type": "code",
   "execution_count": 116,
   "metadata": {},
   "outputs": [],
   "source": [
    "def doKMeans(df):\n",
    "    # Let's plot your data with a '.' marker, a 0.3 alpha at the Longitude,\n",
    "    # and Latitude locations in your dataset. Longitude = x, Latitude = y\n",
    "    fig = plt.figure()\n",
    "    ax = fig.add_subplot(111)\n",
    "    ax.scatter(df.Longitude, df.Latitude, marker='.', alpha=0.3)\n",
    "\n",
    "    \n",
    "    # TODO: Filter `df` using indexing so it only contains Longitude and Latitude,\n",
    "    # since the remaining columns aren't really applicable for this lab:\n",
    "    #\n",
    "    df_filtered = df.loc[:, ['Longitude','Latitude']]\n",
    "\n",
    "\n",
    "    # TODO: Use K-Means to try and find seven cluster centers in this df.\n",
    "    # Be sure to name your kmeans model `model` so that the printing works.\n",
    "    #\n",
    "    model = KMeans(n_clusters=7)\n",
    "    model.fit(df_filtered)\n",
    "\n",
    "\n",
    "    # Now we can print and plot the centroids:\n",
    "    centroids = model.cluster_centers_\n",
    "    print(centroids)\n",
    "    ax.scatter(centroids[:,0], centroids[:,1], marker='x', c='red', alpha=0.5, linewidths=3, s=169)\n",
    "    plt.show()"
   ]
  },
  {
   "cell_type": "code",
   "execution_count": 117,
   "metadata": {},
   "outputs": [
    {
     "name": "stdout",
     "output_type": "stream",
     "text": [
      "[[-87.58116414  41.75210625]\n",
      " [-87.71046336  41.8772318 ]\n",
      " [-87.66563135  41.7744532 ]\n",
      " [-87.68276462  41.98339755]\n",
      " [-87.75685129  41.8918326 ]\n",
      " [-87.63451518  41.70188305]\n",
      " [-87.61907095  41.79883329]]\n"
     ]
    },
    {
     "data": {
      "image/png": "[encoded data removed]",
      "text/plain": [
       "<matplotlib.figure.Figure at 0x1a8d7fadcc0>"
      ]
     },
     "metadata": {},
     "output_type": "display_data"
    }
   ],
   "source": [
    "# Print & Plot your data\n",
    "doKMeans(df)"
   ]
  },
  {
   "cell_type": "markdown",
   "metadata": {},
   "source": [
    "Filter out the data so that it only contains samples that have a `Date > '2011-01-01'`, using indexing. Then, in a new figure, plot the crime incidents, as well as a new K-Means run's centroids."
   ]
  },
  {
   "cell_type": "code",
   "execution_count": 118,
   "metadata": {
    "collapsed": true
   },
   "outputs": [],
   "source": [
    "df = df[df.Date > '2011-01-01' ]"
   ]
  },
  {
   "cell_type": "code",
   "execution_count": 119,
   "metadata": {},
   "outputs": [
    {
     "name": "stdout",
     "output_type": "stream",
     "text": [
      "[[-87.66438259  41.77589234]\n",
      " [-87.75485007  41.8900198 ]\n",
      " [-87.63498384  41.70559452]\n",
      " [-87.71063853  41.87539857]\n",
      " [-87.58028578  41.7504156 ]\n",
      " [-87.61792646  41.79249272]\n",
      " [-87.68715349  41.98350221]]\n"
     ]
    },
    {
     "data": {
      "image/png": "[encoded data removed]",
      "text/plain": [
       "<matplotlib.figure.Figure at 0x1a8d81e14e0>"
      ]
     },
     "metadata": {},
     "output_type": "display_data"
    }
   ],
   "source": [
    "# Print & Plot your data\n",
    "doKMeans(df)"
   ]
  },
  {
   "cell_type": "code",
   "execution_count": null,
   "metadata": {
    "collapsed": true
   },
   "outputs": [],
   "source": []
  }
 ],
 "metadata": {
  "anaconda-cloud": {},
  "kernelspec": {
   "display_name": "Python 3",
   "language": "python",
   "name": "python3"
  },
  "language_info": {
   "codemirror_mode": {
    "name": "ipython",
    "version": 3
   },
   "file_extension": ".py",
   "mimetype": "text/x-python",
   "name": "python",
   "nbconvert_exporter": "python",
   "pygments_lexer": "ipython3",
   "version": "3.6.3"
  },
  "toc": {
   "colors": {
    "hover_highlight": "#DAA520",
    "running_highlight": "#FF0000",
    "selected_highlight": "#FFD700"
   },
   "moveMenuLeft": true,
   "nav_menu": {
    "height": "58px",
    "width": "252px"
   },
   "navigate_menu": true,
   "number_sections": true,
   "sideBar": true,
   "threshold": 4,
   "toc_cell": false,
   "toc_section_display": "block",
   "toc_window_display": false,
   "widenNotebook": false
  }
 },
 "nbformat": 4,
 "nbformat_minor": 2
}
